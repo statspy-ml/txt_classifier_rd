{
 "cells": [
  {
   "cell_type": "code",
   "execution_count": 2,
   "id": "66996600",
   "metadata": {},
   "outputs": [],
   "source": [
    "import rotulai_client as rotulai"
   ]
  },
  {
   "cell_type": "code",
   "execution_count": 11,
   "id": "039378d5",
   "metadata": {},
   "outputs": [],
   "source": [
    "# Setting User_ID and SCOPE\n",
    "rotulai.TOKEN = \"gabs123\"\n",
    "BATCH_NAME = \"operacoes\""
   ]
  },
  {
   "cell_type": "code",
   "execution_count": 4,
   "id": "c5050f2d",
   "metadata": {},
   "outputs": [
    {
     "name": "stdout",
     "output_type": "stream",
     "text": [
      "setting parameters (gabs123->operacoes)\n",
      "{\"statusCode\": 200, \"body\": \"{\\\"message\\\": \\\"Event data saved to S3 successfully\\\"}\"}\n"
     ]
    }
   ],
   "source": [
    "# starting an analysis group\n",
    "print(f\"setting parameters ({rotulai.TOKEN}->{BATCH_NAME})\")\n",
    "r = rotulai.set_config(BATCH_NAME, [\"tempo de entrega\", \"valor de frete\", \"produto estragado\"])\n",
    "print(r)"
   ]
  },
  {
   "cell_type": "code",
   "execution_count": 5,
   "id": "df767fc8",
   "metadata": {},
   "outputs": [
    {
     "name": "stdout",
     "output_type": "stream",
     "text": [
      "sending sentences\n",
      "{\"statusCode\": 200, \"body\": \"{\\\"message\\\": \\\"Event data saved to S3 successfully\\\"}\"}\n"
     ]
    }
   ],
   "source": [
    "# uploading sentences\n",
    "print(\"sending sentences\")\n",
    "sentences = []\n",
    "sentences.append(\"O produto chegou atrasado e fora do prazo de validade\")\n",
    "sentences.append(\"O frete saiu mais caro que o valor do produto que, por sinal, foi entregue no prazo\")\n",
    "sentences.append(\"O meu pedido chegou muito atrasado\")\n",
    "sentences.append(\"Produto entregue corretamente\")\n",
    "r = rotulai.send_sentences(BATCH_NAME, sentences)\n",
    "print(r)"
   ]
  },
  {
   "cell_type": "code",
   "execution_count": 6,
   "id": "e5cfc35a",
   "metadata": {},
   "outputs": [
    {
     "name": "stdout",
     "output_type": "stream",
     "text": [
      "starting analysis\n",
      "{\"statusCode\": 200, \"body\": \"{\\\"message\\\": \\\"25b9f2f1ad40be83b86c4305d8101ba47be6d9c7a2d74581c850c549e1c1508e\\\"}\"}\n"
     ]
    }
   ],
   "source": [
    "# flagging for analysis\n",
    "print(\"starting analysis\")\n",
    "r = rotulai.start_analysis(BATCH_NAME)\n",
    "print(r)"
   ]
  },
  {
   "cell_type": "code",
   "execution_count": 7,
   "id": "f7895955",
   "metadata": {},
   "outputs": [
    {
     "name": "stdout",
     "output_type": "stream",
     "text": [
      "retrieving results\n",
      "  % Total    % Received % Xferd  Average Speed   Time    Time     Time  Current\n",
      "                                 Dload  Upload   Total   Spent    Left  Speed\n",
      "\n",
      "  0     0    0     0    0     0      0      0 --:--:-- --:--:-- --:--:--     0\n",
      "  0     0    0     0    0     0      0      0 --:--:-- --:--:-- --:--:--     0\n",
      "100   918  100   871  100    47    651     35  0:00:01  0:00:01 --:--:--   688\n",
      "100   918  100   871  100    47    651     35  0:00:01  0:00:01 --:--:--   688\n",
      "{\"statusCode\": 200, \"body\": {\"2023-09-26_15:05:37\": {\"processing-date\": \"2023-09-26_15:05:37\", \"token\": \"gabs123\", \"batch_name\": \"operacoes\", \"topics\": [\"tempo de entrega\", \"valor de frete\", \"produto estragado\"], \"results\": {\"sentences\": [{\"sentence\": \"O produto chegou atrasado e fora do prazo de validade\", \"topics\": [\"tempo de entrega\", \"produto estragado\"], \"sentiment\": \"negative\"}, {\"sentence\": \"O frete saiu mais caro que o valor do produto que, por sinal, foi entregue no prazo\", \"topics\": [\"valor de frete\", \"tempo de entrega\"], \"sentiment\": \"mixed\"}, {\"sentence\": \"O meu pedido chegou muito atrasado\", \"topics\": [\"tempo de entrega\"], \"sentiment\": \"negative\"}, {\"sentence\": \"Produto entregue corretamente\", \"topics\": [\"tempo de entrega\"], \"sentiment\": \"positive\"}], \"sentiment count\": {\"positive\": 1, \"negative\": 2, \"neutral\": 0, \"mixed\": 1}, \"SSCORE\": -25.0}}}}\n"
     ]
    }
   ],
   "source": [
    "# retrieving results\n",
    "print(\"retrieving results\")\n",
    "r = rotulai.results(BATCH_NAME)\n",
    "#print(r)"
   ]
  },
  {
   "cell_type": "code",
   "execution_count": 8,
   "id": "5766eadf-6728-411b-96a0-3e28bd56983e",
   "metadata": {},
   "outputs": [
    {
     "name": "stdout",
     "output_type": "stream",
     "text": [
      "Processing Date: 2023-09-26_15:05:37\n",
      "Sentence: O produto chegou atrasado e fora do prazo de validade\n",
      "Topics: tempo de entrega, produto estragado\n",
      "Sentiment: negative\n",
      "\n",
      "\n",
      "Sentence: O frete saiu mais caro que o valor do produto que, por sinal, foi entregue no prazo\n",
      "Topics: valor de frete, tempo de entrega\n",
      "Sentiment: mixed\n",
      "\n",
      "\n",
      "Sentence: O meu pedido chegou muito atrasado\n",
      "Topics: tempo de entrega\n",
      "Sentiment: negative\n",
      "\n",
      "\n",
      "Sentence: Produto entregue corretamente\n",
      "Topics: tempo de entrega\n",
      "Sentiment: positive\n",
      "\n",
      "\n"
     ]
    }
   ],
   "source": [
    "import json\n",
    "\n",
    "start = r.find('{\"statusCode\":')\n",
    "\n",
    "json_data = r[start:]\n",
    "\n",
    "data = json.loads(json_data)\n",
    "\n",
    "for key, value in data['body'].items():\n",
    "    print(f\"Processing Date: {value['processing-date']}\")\n",
    "    \n",
    "    for sentence_info in value['results']['sentences']:\n",
    "        print(f\"Sentence: {sentence_info['sentence']}\")\n",
    "        print(f\"Topics: {', '.join(sentence_info['topics'])}\")\n",
    "        print(f\"Sentiment: {sentence_info['sentiment']}\")\n",
    "        print(\"\\n\")\n"
   ]
  },
  {
   "cell_type": "code",
   "execution_count": 10,
   "id": "9b58352b-07c9-4434-8a60-ecf21584d940",
   "metadata": {},
   "outputs": [
    {
     "name": "stdout",
     "output_type": "stream",
     "text": [
      "Processing Date: 2023-09-26_15:05:37\n",
      "\n",
      "\n",
      "Sentiment Count: Positive: 1, Negative: 2, Neutral: 0, Mixed: 1\n",
      "SSCORE: -25.0\n",
      "\n",
      "\n",
      "Sentence: O produto chegou atrasado e fora do prazo de validade\n",
      "Topics: tempo de entrega, produto estragado\n",
      "Sentiment: negative\n",
      "\n",
      "\n",
      "Sentence: O frete saiu mais caro que o valor do produto que, por sinal, foi entregue no prazo\n",
      "Topics: valor de frete, tempo de entrega\n",
      "Sentiment: mixed\n",
      "\n",
      "\n",
      "Sentence: O meu pedido chegou muito atrasado\n",
      "Topics: tempo de entrega\n",
      "Sentiment: negative\n",
      "\n",
      "\n",
      "Sentence: Produto entregue corretamente\n",
      "Topics: tempo de entrega\n",
      "Sentiment: positive\n",
      "\n",
      "\n",
      "\n",
      "\n"
     ]
    }
   ],
   "source": [
    "\n",
    "for key, value in data['body'].items():\n",
    "    print(f\"Processing Date: {value['processing-date']}\")\n",
    "    print(\"\\n\")\n",
    "    \n",
    "\n",
    "    sentiment_count = value['results']['sentiment count']\n",
    "    print(f\"Sentiment Count: Positive: {sentiment_count['positive']}, Negative: {sentiment_count['negative']}, Neutral: {sentiment_count['neutral']}, Mixed: {sentiment_count['mixed']}\")\n",
    "    \n",
    "\n",
    "    print(f\"SSCORE: {value['results']['SSCORE']}\")\n",
    "    print(\"\\n\")\n",
    "          \n",
    "\n",
    "    for sentence_info in value['results']['sentences']:\n",
    "        print(f\"Sentence: {sentence_info['sentence']}\")\n",
    "        print(f\"Topics: {', '.join(sentence_info['topics'])}\")\n",
    "        print(f\"Sentiment: {sentence_info['sentiment']}\")\n",
    "        print(\"\\n\")  \n",
    "    print(\"\\n\")\n"
   ]
  },
  {
   "cell_type": "code",
   "execution_count": null,
   "id": "b9410e23-8aff-47c6-82e5-1dc5efd3c1f2",
   "metadata": {},
   "outputs": [],
   "source": []
  }
 ],
 "metadata": {
  "kernelspec": {
   "display_name": "Python 3 (ipykernel)",
   "language": "python",
   "name": "python3"
  },
  "language_info": {
   "codemirror_mode": {
    "name": "ipython",
    "version": 3
   },
   "file_extension": ".py",
   "mimetype": "text/x-python",
   "name": "python",
   "nbconvert_exporter": "python",
   "pygments_lexer": "ipython3",
   "version": "3.11.4"
  }
 },
 "nbformat": 4,
 "nbformat_minor": 5
}
