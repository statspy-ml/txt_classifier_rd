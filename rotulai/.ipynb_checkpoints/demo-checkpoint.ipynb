{
 "cells": [
  {
   "cell_type": "code",
   "execution_count": 19,
   "id": "66996600",
   "metadata": {},
   "outputs": [],
   "source": [
    "import rotulai_client as rotulai"
   ]
  },
  {
   "cell_type": "code",
   "execution_count": 20,
   "id": "039378d5",
   "metadata": {},
   "outputs": [],
   "source": [
    "rotulai.TOKEN = \"user99\"\n",
    "BATCH_NAME = \"dataset4\""
   ]
  },
  {
   "cell_type": "code",
   "execution_count": 21,
   "id": "c5050f2d",
   "metadata": {},
   "outputs": [
    {
     "name": "stdout",
     "output_type": "stream",
     "text": [
      "setting parameters (user99->dataset4)\n",
      "{\"statusCode\": 200, \"body\": \"{\\\"message\\\": \\\"Event data saved to S3 successfully\\\"}\"}\n"
     ]
    }
   ],
   "source": [
    "# starting an analysis group\n",
    "print(f\"setting parameters ({rotulai.TOKEN}->{BATCH_NAME})\")\n",
    "r = rotulai.set_config(BATCH_NAME, [\"compra\", \"feedback\", \"duvida\"])\n",
    "print(r)"
   ]
  },
  {
   "cell_type": "code",
   "execution_count": 22,
   "id": "df767fc8",
   "metadata": {},
   "outputs": [
    {
     "name": "stdout",
     "output_type": "stream",
     "text": [
      "sending sentences\n",
      "{\"statusCode\": 200, \"body\": \"{\\\"message\\\": \\\"Event data saved to S3 successfully\\\"}\"}\n"
     ]
    }
   ],
   "source": [
    "# uploading sentences\n",
    "print(\"sending sentences\")\n",
    "sentences = []\n",
    "sentences.append(\"ola, gostaria de comprar um Atenolol\")\n",
    "sentences.append(\"o atendimento esta ruim demais, gostaria que fosse mais rapido\")\n",
    "sentences.append(\"voces possuem Atenolol?\")\n",
    "r = rotulai.send_sentences(BATCH_NAME, sentences)\n",
    "print(r)"
   ]
  },
  {
   "cell_type": "code",
   "execution_count": 23,
   "id": "e5cfc35a",
   "metadata": {},
   "outputs": [
    {
     "name": "stdout",
     "output_type": "stream",
     "text": [
      "starting analysis\n",
      "{\"statusCode\": 200, \"body\": \"{\\\"message\\\": \\\"90837ce56923129c22387f4438a73b461fa2b411bd3c6b74dd9a87d75b9b807a\\\"}\"}\n"
     ]
    }
   ],
   "source": [
    "# flagging for analysis\n",
    "print(\"starting analysis\")\n",
    "r = rotulai.start_analysis(BATCH_NAME)\n",
    "print(r)"
   ]
  },
  {
   "cell_type": "code",
   "execution_count": 24,
   "id": "f7895955",
   "metadata": {},
   "outputs": [
    {
     "name": "stdout",
     "output_type": "stream",
     "text": [
      "retrieving results\n",
      "{\"statusCode\": 200, \"body\": {\"2023-09-26_13:34:37\": {\"processing-date\": \"2023-09-26_13:34:37\", \"token\": \"user99\", \"batch_name\": \"dataset4\", \"topics\": [\"compra\", \"feedback\", \"duvida\"], \"results\": {\"sentences\": [{\"sentence\": \"ola, gostaria de comprar um Atenolol\", \"topics\": [\"compra\"], \"sentiment\": \"neutral\"}, {\"sentence\": \"o atendimento esta ruim demais, gostaria que fosse mais rapido\", \"topics\": [\"feedback\"], \"sentiment\": \"negative\"}, {\"sentence\": \"voces possuem Atenolol?\", \"topics\": [\"compra\"], \"sentiment\": \"neutral\"}], \"sentiment count\": {\"positive\": 0, \"negative\": 1, \"neutral\": 2, \"mixed\": 0}, \"SSCORE\": -33.33333333333333}}}}\n"
     ]
    }
   ],
   "source": [
    "# retrieving results\n",
    "print(\"retrieving results\")\n",
    "r = rotulai.results(BATCH_NAME)\n",
    "print(r)"
   ]
  },
  {
   "cell_type": "code",
   "execution_count": null,
   "id": "3b6b42ec",
   "metadata": {},
   "outputs": [],
   "source": []
  }
 ],
 "metadata": {
  "kernelspec": {
   "display_name": "Python 3",
   "language": "python",
   "name": "python3"
  },
  "language_info": {
   "codemirror_mode": {
    "name": "ipython",
    "version": 3
   },
   "file_extension": ".py",
   "mimetype": "text/x-python",
   "name": "python",
   "nbconvert_exporter": "python",
   "pygments_lexer": "ipython3",
   "version": "3.8.10"
  }
 },
 "nbformat": 4,
 "nbformat_minor": 5
}
